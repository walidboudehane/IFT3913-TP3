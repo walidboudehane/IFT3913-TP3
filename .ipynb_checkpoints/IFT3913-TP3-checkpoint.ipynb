{
 "cells": [
  {
   "cell_type": "code",
   "execution_count": 3,
   "id": "c976c196",
   "metadata": {},
   "outputs": [],
   "source": [
    "import pandas as pd\n",
    "import seaborn as sns   \n",
    "import numpy as np\n",
    "import matplotlib.pyplot as plt\n",
    "sns.set(color_codes=True)"
   ]
  },
  {
   "cell_type": "code",
   "execution_count": 4,
   "id": "a82f462d",
   "metadata": {},
   "outputs": [
    {
     "data": {
      "text/html": [
       "<div>\n",
       "<style scoped>\n",
       "    .dataframe tbody tr th:only-of-type {\n",
       "        vertical-align: middle;\n",
       "    }\n",
       "\n",
       "    .dataframe tbody tr th {\n",
       "        vertical-align: top;\n",
       "    }\n",
       "\n",
       "    .dataframe thead th {\n",
       "        text-align: right;\n",
       "    }\n",
       "</style>\n",
       "<table border=\"1\" class=\"dataframe\">\n",
       "  <thead>\n",
       "    <tr style=\"text-align: right;\">\n",
       "      <th></th>\n",
       "      <th>class</th>\n",
       "      <th>TLOC</th>\n",
       "      <th>WMC</th>\n",
       "      <th>TASSERT</th>\n",
       "    </tr>\n",
       "  </thead>\n",
       "  <tbody>\n",
       "    <tr>\n",
       "      <th>0</th>\n",
       "      <td>./src/test/java/org/jfree/chart/annotations/Ca...</td>\n",
       "      <td>107</td>\n",
       "      <td>8</td>\n",
       "      <td>27</td>\n",
       "    </tr>\n",
       "    <tr>\n",
       "      <th>1</th>\n",
       "      <td>./src/test/java/org/jfree/chart/annotations/Ca...</td>\n",
       "      <td>96</td>\n",
       "      <td>8</td>\n",
       "      <td>30</td>\n",
       "    </tr>\n",
       "    <tr>\n",
       "      <th>2</th>\n",
       "      <td>./src/test/java/org/jfree/chart/annotations/Ca...</td>\n",
       "      <td>61</td>\n",
       "      <td>8</td>\n",
       "      <td>14</td>\n",
       "    </tr>\n",
       "    <tr>\n",
       "      <th>3</th>\n",
       "      <td>./src/test/java/org/jfree/chart/annotations/Te...</td>\n",
       "      <td>92</td>\n",
       "      <td>12</td>\n",
       "      <td>22</td>\n",
       "    </tr>\n",
       "    <tr>\n",
       "      <th>4</th>\n",
       "      <td>./src/test/java/org/jfree/chart/annotations/XY...</td>\n",
       "      <td>141</td>\n",
       "      <td>8</td>\n",
       "      <td>21</td>\n",
       "    </tr>\n",
       "  </tbody>\n",
       "</table>\n",
       "</div>"
      ],
      "text/plain": [
       "                                               class  TLOC   WMC   TASSERT\n",
       "0  ./src/test/java/org/jfree/chart/annotations/Ca...   107     8        27\n",
       "1  ./src/test/java/org/jfree/chart/annotations/Ca...    96     8        30\n",
       "2  ./src/test/java/org/jfree/chart/annotations/Ca...    61     8        14\n",
       "3  ./src/test/java/org/jfree/chart/annotations/Te...    92    12        22\n",
       "4  ./src/test/java/org/jfree/chart/annotations/XY...   141     8        21"
      ]
     },
     "execution_count": 4,
     "metadata": {},
     "output_type": "execute_result"
    }
   ],
   "source": [
    "jfree_donnees=pd.read_csv(\"jfreechart-test-stats.csv\")\n",
    "#afficher les 5 premiers lignes \n",
    "jfree_donnees.head()"
   ]
  },
  {
   "cell_type": "code",
   "execution_count": 5,
   "id": "a388448d",
   "metadata": {},
   "outputs": [
    {
     "name": "stdout",
     "output_type": "stream",
     "text": [
      "['class', 'TLOC', ' WMC', ' TASSERT']\n"
     ]
    }
   ],
   "source": [
    "#afficher les noms de colonnes \n",
    "colonnes=list(jfree_donnees.columns)\n",
    "print(colonnes)"
   ]
  },
  {
   "cell_type": "code",
   "execution_count": 6,
   "id": "12abfe5c",
   "metadata": {},
   "outputs": [
    {
     "data": {
      "image/png": "[encoded data removed]",
      "text/plain": [
       "<Figure size 432x288 with 1 Axes>"
      ]
     },
     "metadata": {},
     "output_type": "display_data"
    },
    {
     "name": "stdout",
     "output_type": "stream",
     "text": [
      "Le médiane de   TLOC est :  83.0\n",
      "Le quartile supérieur u est :  125.0\n",
      "Le quartile inférieur l est :  46.0\n",
      "La longueur de la boîte d est :  79.0\n",
      "La limite supérieure s est :   243.5\n",
      "La limite inférieure i est :  0\n"
     ]
    }
   ],
   "source": [
    "#prendre juste la colonne  de TLOC et desiner la boite à moustache\n",
    "\n",
    "sns.boxplot(x=jfree_donnees['TLOC'])\n",
    "\n",
    "#Le médiane \n",
    "m_TLOC=jfree_donnees['TLOC'].median()\n",
    "#Le quartile supérieur \n",
    "u_TLOC=jfree_donnees[jfree_donnees['TLOC'] > m_TLOC] ['TLOC'].median()\n",
    "#Le quartile inférieur\n",
    "l_TLOC=jfree_donnees[jfree_donnees['TLOC'] < m_TLOC] ['TLOC'].median() \n",
    "#longueur\n",
    "d_TLOC=u_TLOC-l_TLOC \n",
    "#La limite supérieure s \n",
    "s_TLOC=u_TLOC+1.5*d_TLOC\n",
    "#La limite inférieure i \n",
    "i_TLOC=l_TLOC-1.5*d_TLOC \n",
    "if i_TLOC <0:\n",
    "    i_TLOC=0\n",
    "print(\"Le médiane de   TLOC est : \",m_TLOC)\n",
    "print(\"Le quartile supérieur u est : \"  ,u_TLOC)\n",
    "print(\"Le quartile inférieur l est : \" ,l_TLOC)\n",
    "print(\"La longueur de la boîte d est : \" ,d_TLOC)\n",
    "print(\"La limite supérieure s est :  \" ,s_TLOC)\n",
    "print(\"La limite inférieure i est : \" ,i_TLOC)"
   ]
  },
  {
   "cell_type": "code",
   "execution_count": 10,
   "id": "60fbea2d",
   "metadata": {},
   "outputs": [
    {
     "name": "stdout",
     "output_type": "stream",
     "text": [
      "Le médiane de  WMC est :  9.0\n",
      "Le quartile supérieur u est :  12.0\n",
      "Le quartile inférieur l est :  8.0\n",
      "La longueur de la boîte d est :  4.0\n",
      "La limite supérieure s est :   18.0\n",
      "La limite inférieure i est :  2.0\n"
     ]
    },
    {
     "data": {
      "image/png": "[encoded data removed]",
      "text/plain": [
       "<Figure size 432x288 with 1 Axes>"
      ]
     },
     "metadata": {},
     "output_type": "display_data"
    }
   ],
   "source": [
    "#prendre juste la colonne  de WMC et desiner la boite à moustache\n",
    "\n",
    "sns.boxplot(x=jfree_donnees[' WMC'])\n",
    "\n",
    "#Le médiane\n",
    "m_WMC=jfree_donnees[' WMC'].median()\n",
    "#Le quartile supérieur\n",
    "u_WMC=jfree_donnees[jfree_donnees[' WMC'] > m_WMC] [' WMC'].median()\n",
    "#Le quartile inférieur\n",
    "l_WMC=jfree_donnees[jfree_donnees[' WMC'] < m_WMC] [' WMC'].median() \n",
    "#longueur\n",
    "d_WMC=u_WMC-l_WMC \n",
    "#La limite supérieure s \n",
    "s_WMC=u_WMC+1.5*d_WMC\n",
    "#La limite inférieure i \n",
    "i_WMC=l_WMC-1.5*d_WMC\n",
    "if i_WMC <0:\n",
    "    i_WMC=0\n",
    "print(\"Le médiane de  WMC est : \",m_WMC)\n",
    "print(\"Le quartile supérieur u est : \"  ,u_WMC)\n",
    "print(\"Le quartile inférieur l est : \" ,l_WMC)\n",
    "print(\"La longueur de la boîte d est : \" ,d_WMC)\n",
    "print(\"La limite supérieure s est :  \" ,s_WMC)\n",
    "print(\"La limite inférieure i est : \" ,i_WMC)"
   ]
  },
  {
   "cell_type": "code",
   "execution_count": 11,
   "id": "9966eeae",
   "metadata": {},
   "outputs": [
    {
     "name": "stdout",
     "output_type": "stream",
     "text": [
      "Le médiane de tassert est :  17.0\n",
      "Le quartile supérieur u est :  33.0\n",
      "Le quartile inférieur l est :  10.0\n",
      "La longueur de la boîte d est :  23.0\n",
      "La limite supérieure s est :   67.5\n",
      "La limite inférieure i est :  0\n"
     ]
    },
    {
     "data": {
      "image/png": "[encoded data removed]",
      "text/plain": [
       "<Figure size 432x288 with 1 Axes>"
      ]
     },
     "metadata": {},
     "output_type": "display_data"
    }
   ],
   "source": [
    "#prendre juste la colonne  de TASSERT et desiner la boite à moustache\n",
    "\n",
    "sns.boxplot(x=jfree_donnees[' TASSERT'])\n",
    "\n",
    "#Le médiane\n",
    "m_TASSERT=jfree_donnees[' TASSERT'].median()\n",
    "#Le quartile supérieur\n",
    "u_TASSERT=jfree_donnees[jfree_donnees[' TASSERT'] > m_TASSERT] [' TASSERT'].median()\n",
    "#Le quartile inférieur\n",
    "l_TASSERT=jfree_donnees[jfree_donnees[' TASSERT'] < m_TASSERT] [' TASSERT'].median() \n",
    "#longueur\n",
    "d_TASSERT=u_TASSERT-l_TASSERT \n",
    "#La limite supérieure s \n",
    "s_TASSERT=u_TASSERT+1.5*d_TASSERT\n",
    "#La limite inférieure i \n",
    "i_TASSERT=l_TASSERT-1.5*d_TASSERT \n",
    "if i_TASSERT <0:\n",
    "    i_TASSERT=0\n",
    "print(\"Le médiane de tassert est : \",m_TASSERT)\n",
    "print(\"Le quartile supérieur u est : \"  ,u_TASSERT)\n",
    "print(\"Le quartile inférieur l est : \" ,l_TASSERT)\n",
    "print(\"La longueur de la boîte d est : \" ,d_TASSERT)\n",
    "print(\"La limite supérieure s est :  \" ,s_TASSERT)\n",
    "print(\"La limite inférieure i est : \" ,i_TASSERT)"
   ]
  },
  {
   "cell_type": "code",
   "execution_count": 15,
   "id": "4931a3e1",
   "metadata": {},
   "outputs": [
    {
     "name": "stdout",
     "output_type": "stream",
     "text": [
      "les droits de régression : \n",
      "Coefficient de pente b :  0.2498073721643447\n",
      "Ordonnée à l'origine a:  -1.5675655951723577\n",
      "le coefficient de corrélation r :  0.9395723187973007\n"
     ]
    },
    {
     "data": {
      "image/png": "[encoded data removed]",
      "text/plain": [
       "<Figure size 432x288 with 1 Axes>"
      ]
     },
     "metadata": {
      "needs_background": "light"
     },
     "output_type": "display_data"
    }
   ],
   "source": [
    "#Tache 2 :\n",
    "TLOC_donnees=jfree_donnees['TLOC']\n",
    "TLOC_donnees_moyen=np.mean(TLOC_donnees)\n",
    "\n",
    "TASSERT_donnees=jfree_donnees[' TASSERT']\n",
    "TASSERT_donnees_moyen=np.mean(TASSERT_donnees)\n",
    "\n",
    "# Calcul des coefficients\n",
    "estimation_covariance_1 = np.sum((TLOC_donnees - TLOC_donnees_moyen) * (TASSERT_donnees - TASSERT_donnees_moyen))\n",
    "variance_TLOC = np.sum((TLOC_donnees - TLOC_donnees_moyen) ** 2)\n",
    "\n",
    "# Calcul du coefficient de pente\n",
    "b1 = estimation_covariance_1 / variance_TLOC\n",
    "\n",
    "# Calcul de l'ordonnée à l'origine\n",
    "a1 = TASSERT_donnees_moyen - b_1 * TLOC_donnees_moyen\n",
    "\n",
    "#calcule de Coefficient de corrélation de Pearson (r)\n",
    "ecart_type_TLOC=np.sqrt(np.sum((TLOC_donnees - TLOC_donnees_moyen) ** 2))\n",
    "ecart_type_TASSERT=np.sqrt(np.sum((TASSERT_donnees - TASSERT_donnees_moyen) ** 2))\n",
    "r1=estimation_covariance_1/(ecart_type_TLOC*ecart_type_TASSERT)\n",
    "\n",
    "# Affichage des résultats\n",
    "print(\"les droits de régression : \" )\n",
    "print(\"Coefficient de pente b : \", b1)\n",
    "print(\"Ordonnée à l'origine a: \", a1)\n",
    "print(\"le coefficient de corrélation r : \",r1)\n",
    "\n",
    "plt.scatter(jfree_donnees['TLOC'], jfree_donnees[' TASSERT'])\n",
    "plt.plot(TLOC_donnees, b_1 * TLOC_donnees + a_1, color='r', label='Régression')\n",
    "\n",
    "# Ajouter un titre et des labels\n",
    "plt.title(' Diagramme de nuage de points entre TLOC et TASSERT')\n",
    "plt.xlabel('TLOC')\n",
    "plt.ylabel('TASSERT')\n",
    "\n",
    "# Afficher le plot\n",
    "plt.show()"
   ]
  },
  {
   "cell_type": "code",
   "execution_count": 16,
   "id": "258a0f12",
   "metadata": {},
   "outputs": [
    {
     "name": "stdout",
     "output_type": "stream",
     "text": [
      "les droits de régression : \n",
      "Coefficient de pente b :  4.22070704489439\n",
      "Ordonnée à l'origine a:  -21.699130611226757\n",
      "Coefficient de corrélation de Pearson (r) :  0.792472826523153\n"
     ]
    },
    {
     "data": {
      "image/png": "[encoded data removed]",
      "text/plain": [
       "<Figure size 432x288 with 1 Axes>"
      ]
     },
     "metadata": {
      "needs_background": "light"
     },
     "output_type": "display_data"
    }
   ],
   "source": [
    "WMC_donnees=jfree_donnees[' WMC']\n",
    "WMC_donnees_moyen=np.mean(WMC_donnees)\n",
    "\n",
    "TASSERT_donnees=jfree_donnees[' TASSERT']\n",
    "TASSERT_donnees_moyen=np.mean(TASSERT_donnees)\n",
    "\n",
    "# Calcul des coefficients\n",
    "estimation_covariance_2 = np.sum((WMC_donnees - WMC_donnees_moyen) * (TASSERT_donnees - TASSERT_donnees_moyen))\n",
    "variance_WMC = np.sum((WMC_donnees - WMC_donnees_moyen) ** 2)\n",
    "\n",
    "# Calcul du coefficient de pente\n",
    "b2 = estimation_covariance_2 / variance_WMC\n",
    "\n",
    "# Calcul de l'ordonnée à l'origine\n",
    "a2 = TASSERT_donnees_moyen - b_2 * WMC_donnees_moyen\n",
    "\n",
    "#calcule de Coefficient de corrélation de Pearson (r)\n",
    "ecart_type_WMC=np.sqrt(np.sum((WMC_donnees - WMC_donnees_moyen) ** 2))\n",
    "ecart_type_TASSERT=np.sqrt(np.sum((TASSERT_donnees - TASSERT_donnees_moyen) ** 2))\n",
    "r2=estimation_covariance_2/(ecart_type_WMC*ecart_type_TASSERT)\n",
    "\n",
    "\n",
    "\n",
    "# Affichage des résultats\n",
    "print(\"les droits de régression : \" )\n",
    "print(\"Coefficient de pente b : \", b2)\n",
    "print(\"Ordonnée à l'origine a: \", a2)\n",
    "print(\"Coefficient de corrélation de Pearson (r) : \",r2)\n",
    "\n",
    "plt.scatter(jfree_donnees[' WMC'], jfree_donnees[' TASSERT'])\n",
    "plt.plot(WMC_donnees, b_2 * WMC_donnees + a_2, color='r', label='Régression')\n",
    "\n",
    "# Ajouter un titre et des labels\n",
    "plt.title('Diagramme de nuage de points entre WMC et TASSERT')\n",
    "plt.xlabel('WMC')\n",
    "plt.ylabel('TASSERT')\n",
    "\n",
    "# Afficher le plot\n",
    "plt.show()"
   ]
  },
  {
   "cell_type": "code",
   "execution_count": null,
   "id": "d47f511d",
   "metadata": {},
   "outputs": [],
   "source": []
  }
 ],
 "metadata": {
  "kernelspec": {
   "display_name": "Python 3 (ipykernel)",
   "language": "python",
   "name": "python3"
  },
  "language_info": {
   "codemirror_mode": {
    "name": "ipython",
    "version": 3
   },
   "file_extension": ".py",
   "mimetype": "text/x-python",
   "name": "python",
   "nbconvert_exporter": "python",
   "pygments_lexer": "ipython3",
   "version": "3.9.7"
  }
 },
 "nbformat": 4,
 "nbformat_minor": 5
}
